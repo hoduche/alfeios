{
 "cells": [
  {
   "cell_type": "code",
   "execution_count": 9,
   "metadata": {},
   "outputs": [],
   "source": [
    "import pandas as pd"
   ]
  },
  {
   "cell_type": "code",
   "execution_count": 67,
   "metadata": {},
   "outputs": [
    {
     "data": {
      "text/html": [
       "<div>\n",
       "<style scoped>\n",
       "    .dataframe tbody tr th:only-of-type {\n",
       "        vertical-align: middle;\n",
       "    }\n",
       "\n",
       "    .dataframe tbody tr th {\n",
       "        vertical-align: top;\n",
       "    }\n",
       "\n",
       "    .dataframe thead th {\n",
       "        text-align: right;\n",
       "    }\n",
       "</style>\n",
       "<table border=\"1\" class=\"dataframe\">\n",
       "  <thead>\n",
       "    <tr style=\"text-align: right;\">\n",
       "      <th></th>\n",
       "      <th></th>\n",
       "      <th></th>\n",
       "      <th>POS_INIT</th>\n",
       "      <th>AVP</th>\n",
       "    </tr>\n",
       "    <tr>\n",
       "      <th>PRD_ID</th>\n",
       "      <th>STRAT_ID</th>\n",
       "      <th>CLEARER_ID</th>\n",
       "      <th></th>\n",
       "      <th></th>\n",
       "    </tr>\n",
       "  </thead>\n",
       "  <tbody>\n",
       "    <tr>\n",
       "      <th rowspan=\"8\" valign=\"top\">AALB_NA</th>\n",
       "      <th rowspan=\"4\" valign=\"top\">A</th>\n",
       "      <th>1</th>\n",
       "      <td>1000</td>\n",
       "      <td>10</td>\n",
       "    </tr>\n",
       "    <tr>\n",
       "      <th>2</th>\n",
       "      <td>0</td>\n",
       "      <td>0</td>\n",
       "    </tr>\n",
       "    <tr>\n",
       "      <th>3</th>\n",
       "      <td>0</td>\n",
       "      <td>0</td>\n",
       "    </tr>\n",
       "    <tr>\n",
       "      <th>4</th>\n",
       "      <td>0</td>\n",
       "      <td>0</td>\n",
       "    </tr>\n",
       "    <tr>\n",
       "      <th rowspan=\"4\" valign=\"top\">B</th>\n",
       "      <th>1</th>\n",
       "      <td>0</td>\n",
       "      <td>0</td>\n",
       "    </tr>\n",
       "    <tr>\n",
       "      <th>2</th>\n",
       "      <td>0</td>\n",
       "      <td>0</td>\n",
       "    </tr>\n",
       "    <tr>\n",
       "      <th>3</th>\n",
       "      <td>0</td>\n",
       "      <td>0</td>\n",
       "    </tr>\n",
       "    <tr>\n",
       "      <th>4</th>\n",
       "      <td>0</td>\n",
       "      <td>0</td>\n",
       "    </tr>\n",
       "  </tbody>\n",
       "</table>\n",
       "</div>"
      ],
      "text/plain": [
       "                             POS_INIT  AVP\n",
       "PRD_ID  STRAT_ID CLEARER_ID               \n",
       "AALB_NA A        1               1000   10\n",
       "                 2                  0    0\n",
       "                 3                  0    0\n",
       "                 4                  0    0\n",
       "        B        1                  0    0\n",
       "                 2                  0    0\n",
       "                 3                  0    0\n",
       "                 4                  0    0"
      ]
     },
     "execution_count": 67,
     "metadata": {},
     "output_type": "execute_result"
    }
   ],
   "source": [
    "initial_position = [('AALB_NA', 'A', 1, 1000, 10),\n",
    "                    ('AALB_NA', 'A', 2, 0, 0),\n",
    "                    ('AALB_NA', 'A', 3, 0, 0),\n",
    "                    ('AALB_NA', 'A', 4, 0, 0),\n",
    "                    ('AALB_NA', 'B', 1, 0, 0),\n",
    "                    ('AALB_NA', 'B', 2, 0, 0),\n",
    "                    ('AALB_NA', 'B', 3, 0, 0),\n",
    "                    ('AALB_NA', 'B', 4, 0, 0)]\n",
    "initial_position_columns = ['PRD_ID', 'STRAT_ID', 'CLEARER_ID', 'POS_INIT', 'AVP']\n",
    "df_initial_position = pd.DataFrame.from_records(initial_position,\n",
    "                                                columns=initial_position_columns)\n",
    "df_initial_position = df_initial_position.set_index(list(df_initial_position.columns[:3]))\n",
    "df_initial_position"
   ]
  },
  {
   "cell_type": "code",
   "execution_count": 102,
   "metadata": {},
   "outputs": [],
   "source": [
    "df = df_initial_position"
   ]
  },
  {
   "cell_type": "code",
   "execution_count": 121,
   "metadata": {},
   "outputs": [
    {
     "data": {
      "text/plain": [
       "POS_INIT    1000\n",
       "AVP           10\n",
       "Name: (AALB_NA, A, 1), dtype: int64"
      ]
     },
     "execution_count": 121,
     "metadata": {},
     "output_type": "execute_result"
    }
   ],
   "source": [
    "df.loc[('AALB_NA', 'A', 1)]"
   ]
  },
  {
   "cell_type": "code",
   "execution_count": 123,
   "metadata": {},
   "outputs": [
    {
     "data": {
      "text/plain": [
       "POS_INIT    1000\n",
       "AVP           10\n",
       "Name: (AALB_NA, A, 1), dtype: int64"
      ]
     },
     "execution_count": 123,
     "metadata": {},
     "output_type": "execute_result"
    }
   ],
   "source": [
    "df.loc[tuple(['AALB_NA', 'A', 1])]"
   ]
  },
  {
   "cell_type": "code",
   "execution_count": 116,
   "metadata": {},
   "outputs": [
    {
     "data": {
      "text/plain": [
       "False"
      ]
     },
     "execution_count": 116,
     "metadata": {},
     "output_type": "execute_result"
    }
   ],
   "source": [
    "('AALB_NA', 'A', 5) in df.index"
   ]
  },
  {
   "cell_type": "code",
   "execution_count": 115,
   "metadata": {},
   "outputs": [
    {
     "data": {
      "text/plain": [
       "True"
      ]
     },
     "execution_count": 115,
     "metadata": {},
     "output_type": "execute_result"
    }
   ],
   "source": [
    "('AALB_NA', 'A', 1) in df.index"
   ]
  },
  {
   "cell_type": "code",
   "execution_count": 119,
   "metadata": {
    "scrolled": true
   },
   "outputs": [
    {
     "data": {
      "text/plain": [
       "array([ True,  True])"
      ]
     },
     "execution_count": 119,
     "metadata": {},
     "output_type": "execute_result"
    }
   ],
   "source": [
    "df.columns.values == ['POS_INIT', 'AVP']"
   ]
  },
  {
   "cell_type": "code",
   "execution_count": null,
   "metadata": {},
   "outputs": [],
   "source": []
  },
  {
   "cell_type": "code",
   "execution_count": null,
   "metadata": {},
   "outputs": [],
   "source": []
  },
  {
   "cell_type": "code",
   "execution_count": 128,
   "metadata": {},
   "outputs": [
    {
     "name": "stdout",
     "output_type": "stream",
     "text": [
      "Folder0\n",
      "Folder0_hashes\n",
      "Folder0_hashes.txt\n",
      "Folder0_listing.csv\n",
      "Folder0_listing.pickle\n",
      "Folder0_listing.txt\n",
      "Folder0_sizes.txt\n",
      "folder1\n",
      "folder1_listing.csv\n"
     ]
    }
   ],
   "source": [
    "!ls tests/data"
   ]
  },
  {
   "cell_type": "code",
   "execution_count": 130,
   "metadata": {},
   "outputs": [],
   "source": [
    "tt = pathlib.Path('tests/data')"
   ]
  },
  {
   "cell_type": "code",
   "execution_count": 131,
   "metadata": {},
   "outputs": [],
   "source": [
    "ti = tt / 'Folder0_listing.txt'"
   ]
  },
  {
   "cell_type": "code",
   "execution_count": 132,
   "metadata": {},
   "outputs": [],
   "source": [
    "tu = ti.read_text()"
   ]
  },
  {
   "cell_type": "code",
   "execution_count": 135,
   "metadata": {},
   "outputs": [],
   "source": [
    "bu = json.loads(tu)"
   ]
  },
  {
   "cell_type": "code",
   "execution_count": null,
   "metadata": {},
   "outputs": [],
   "source": [
    "bu"
   ]
  },
  {
   "cell_type": "code",
   "execution_count": 137,
   "metadata": {},
   "outputs": [
    {
     "data": {
      "text/plain": [
       "dict"
      ]
     },
     "execution_count": 137,
     "metadata": {},
     "output_type": "execute_result"
    }
   ],
   "source": [
    "type(bu)"
   ]
  },
  {
   "cell_type": "code",
   "execution_count": 157,
   "metadata": {},
   "outputs": [],
   "source": [
    "bubu = collections.defaultdict(list, bu)"
   ]
  },
  {
   "cell_type": "code",
   "execution_count": 168,
   "metadata": {},
   "outputs": [
    {
     "data": {
      "text/plain": [
       "'hello\\nworld'"
      ]
     },
     "execution_count": 168,
     "metadata": {},
     "output_type": "execute_result"
    }
   ],
   "source": [
    "pathlib.Path(list(bubu.values())[1][0]).read_text()"
   ]
  },
  {
   "cell_type": "code",
   "execution_count": 212,
   "metadata": {},
   "outputs": [
    {
     "data": {
      "text/plain": [
       "WindowsPath('C:/netBeansProjects/fs-crawler')"
      ]
     },
     "execution_count": 212,
     "metadata": {},
     "output_type": "execute_result"
    }
   ],
   "source": [
    "pathlib.Path().resolve()"
   ]
  },
  {
   "cell_type": "code",
   "execution_count": null,
   "metadata": {},
   "outputs": [],
   "source": []
  },
  {
   "cell_type": "code",
   "execution_count": null,
   "metadata": {},
   "outputs": [],
   "source": []
  },
  {
   "cell_type": "code",
   "execution_count": null,
   "metadata": {},
   "outputs": [],
   "source": []
  },
  {
   "cell_type": "code",
   "execution_count": null,
   "metadata": {},
   "outputs": [],
   "source": []
  },
  {
   "cell_type": "code",
   "execution_count": null,
   "metadata": {},
   "outputs": [],
   "source": []
  },
  {
   "cell_type": "code",
   "execution_count": 346,
   "metadata": {},
   "outputs": [],
   "source": [
    "listing = collections.defaultdict(list)"
   ]
  },
  {
   "cell_type": "code",
   "execution_count": 347,
   "metadata": {},
   "outputs": [],
   "source": [
    "listing[('xxxxxxxxx', 'file', 256)].append(pathlib.Path().resolve())"
   ]
  },
  {
   "cell_type": "code",
   "execution_count": 348,
   "metadata": {},
   "outputs": [],
   "source": [
    "listing[('xxxxxxxxx', 'file', 256)].append(pathlib.Path('setup.py').resolve())"
   ]
  },
  {
   "cell_type": "code",
   "execution_count": 349,
   "metadata": {},
   "outputs": [],
   "source": [
    "listing[('yyyyyyyyy', 'dir', 512)].append(pathlib.Path().resolve())"
   ]
  },
  {
   "cell_type": "code",
   "execution_count": 350,
   "metadata": {},
   "outputs": [],
   "source": [
    "listing[('yyyyyyyyy', 'dir', 512)].append(pathlib.Path().resolve().parent)"
   ]
  },
  {
   "cell_type": "code",
   "execution_count": 389,
   "metadata": {},
   "outputs": [
    {
     "data": {
      "text/plain": [
       "defaultdict(list,\n",
       "            {('xxxxxxxxx',\n",
       "              'file',\n",
       "              256): [WindowsPath('C:/netBeansProjects/fs-crawler'), WindowsPath('C:/netBeansProjects/fs-crawler/setup.py')],\n",
       "             ('yyyyyyyyy',\n",
       "              'dir',\n",
       "              512): [WindowsPath('C:/netBeansProjects/fs-crawler'), WindowsPath('C:/netBeansProjects')]})"
      ]
     },
     "execution_count": 389,
     "metadata": {},
     "output_type": "execute_result"
    }
   ],
   "source": [
    "listing"
   ]
  },
  {
   "cell_type": "code",
   "execution_count": 390,
   "metadata": {},
   "outputs": [
    {
     "data": {
      "text/plain": [
       "{\"('xxxxxxxxx', 'file', 256)\": ['C:\\\\netBeansProjects\\\\fs-crawler',\n",
       "  'C:\\\\netBeansProjects\\\\fs-crawler\\\\setup.py'],\n",
       " \"('yyyyyyyyy', 'dir', 512)\": ['C:\\\\netBeansProjects\\\\fs-crawler',\n",
       "  'C:\\\\netBeansProjects']}"
      ]
     },
     "execution_count": 390,
     "metadata": {},
     "output_type": "execute_result"
    }
   ],
   "source": [
    "serializable_listing = {str(tuple_key): [str(path) for path in path_list] for tuple_key, path_list in listing.items()}\n",
    "serializable_listing"
   ]
  },
  {
   "cell_type": "code",
   "execution_count": 391,
   "metadata": {},
   "outputs": [],
   "source": [
    "json_listing = json.dumps(serializable_listing)"
   ]
  },
  {
   "cell_type": "code",
   "execution_count": 393,
   "metadata": {},
   "outputs": [
    {
     "data": {
      "text/plain": [
       "'{\"(\\'xxxxxxxxx\\', \\'file\\', 256)\": [\"C:\\\\\\\\netBeansProjects\\\\\\\\fs-crawler\", \"C:\\\\\\\\netBeansProjects\\\\\\\\fs-crawler\\\\\\\\setup.py\"], \"(\\'yyyyyyyyy\\', \\'dir\\', 512)\": [\"C:\\\\\\\\netBeansProjects\\\\\\\\fs-crawler\", \"C:\\\\\\\\netBeansProjects\"]}'"
      ]
     },
     "execution_count": 393,
     "metadata": {},
     "output_type": "execute_result"
    }
   ],
   "source": [
    "json_listing"
   ]
  },
  {
   "cell_type": "code",
   "execution_count": 394,
   "metadata": {},
   "outputs": [
    {
     "data": {
      "text/plain": [
       "{\"('xxxxxxxxx', 'file', 256)\": ['C:\\\\netBeansProjects\\\\fs-crawler',\n",
       "  'C:\\\\netBeansProjects\\\\fs-crawler\\\\setup.py'],\n",
       " \"('yyyyyyyyy', 'dir', 512)\": ['C:\\\\netBeansProjects\\\\fs-crawler',\n",
       "  'C:\\\\netBeansProjects']}"
      ]
     },
     "execution_count": 394,
     "metadata": {},
     "output_type": "execute_result"
    }
   ],
   "source": [
    "ser = json.loads(json_listing)\n",
    "ser"
   ]
  },
  {
   "cell_type": "code",
   "execution_count": 397,
   "metadata": {},
   "outputs": [
    {
     "data": {
      "text/plain": [
       "defaultdict(list,\n",
       "            {('xxxxxxxxx',\n",
       "              'file',\n",
       "              256): [WindowsPath('C:/netBeansProjects/fs-crawler'), WindowsPath('C:/netBeansProjects/fs-crawler/setup.py')],\n",
       "             ('yyyyyyyyy',\n",
       "              'dir',\n",
       "              512): [WindowsPath('C:/netBeansProjects/fs-crawler'), WindowsPath('C:/netBeansProjects')]})"
      ]
     },
     "execution_count": 397,
     "metadata": {},
     "output_type": "execute_result"
    }
   ],
   "source": [
    "listing"
   ]
  },
  {
   "cell_type": "code",
   "execution_count": 400,
   "metadata": {},
   "outputs": [
    {
     "data": {
      "text/plain": [
       "defaultdict(list,\n",
       "            {('xxxxxxxxx',\n",
       "              'file',\n",
       "              256): [WindowsPath('C:/netBeansProjects/fs-crawler'), WindowsPath('C:/netBeansProjects/fs-crawler/setup.py')],\n",
       "             ('yyyyyyyyy',\n",
       "              'dir',\n",
       "              512): [WindowsPath('C:/netBeansProjects/fs-crawler'), WindowsPath('C:/netBeansProjects')]})"
      ]
     },
     "execution_count": 400,
     "metadata": {},
     "output_type": "execute_result"
    }
   ],
   "source": [
    "lili = collections.defaultdict(list, {ast.literal_eval(tuple_key): [pathlib.Path(path) for path in path_list]\n",
    "                                      for (tuple_key, path_list) in ser.items()})\n",
    "lili"
   ]
  },
  {
   "cell_type": "code",
   "execution_count": 401,
   "metadata": {},
   "outputs": [
    {
     "data": {
      "text/plain": [
       "True"
      ]
     },
     "execution_count": 401,
     "metadata": {},
     "output_type": "execute_result"
    }
   ],
   "source": [
    "lili == listing"
   ]
  },
  {
   "cell_type": "code",
   "execution_count": null,
   "metadata": {},
   "outputs": [],
   "source": []
  },
  {
   "cell_type": "code",
   "execution_count": null,
   "metadata": {},
   "outputs": [],
   "source": []
  },
  {
   "cell_type": "code",
   "execution_count": null,
   "metadata": {},
   "outputs": [],
   "source": []
  },
  {
   "cell_type": "code",
   "execution_count": null,
   "metadata": {},
   "outputs": [],
   "source": []
  },
  {
   "cell_type": "code",
   "execution_count": null,
   "metadata": {},
   "outputs": [],
   "source": []
  },
  {
   "cell_type": "code",
   "execution_count": null,
   "metadata": {},
   "outputs": [],
   "source": []
  },
  {
   "cell_type": "code",
   "execution_count": 259,
   "metadata": {},
   "outputs": [],
   "source": [
    "defdic = collections.defaultdict(list)"
   ]
  },
  {
   "cell_type": "code",
   "execution_count": 262,
   "metadata": {},
   "outputs": [],
   "source": [
    "defdic[(pathlib.Path().resolve(), 1, 'file')].append('bonjour')"
   ]
  },
  {
   "cell_type": "code",
   "execution_count": 264,
   "metadata": {},
   "outputs": [],
   "source": [
    "defdic[(pathlib.Path().resolve().parent, 2, 'dir')].append('hello')"
   ]
  },
  {
   "cell_type": "code",
   "execution_count": 324,
   "metadata": {},
   "outputs": [
    {
     "data": {
      "text/plain": [
       "defaultdict(list,\n",
       "            {(WindowsPath('C:/netBeansProjects/fs-crawler'),\n",
       "              1,\n",
       "              'file'): ['bonjour', 'bonjour', 'bonjour'],\n",
       "             (WindowsPath('C:/netBeansProjects'), 2, 'dir'): ['hello',\n",
       "              'hello']})"
      ]
     },
     "execution_count": 324,
     "metadata": {},
     "output_type": "execute_result"
    }
   ],
   "source": [
    "defdic"
   ]
  },
  {
   "cell_type": "code",
   "execution_count": null,
   "metadata": {},
   "outputs": [],
   "source": []
  },
  {
   "cell_type": "code",
   "execution_count": null,
   "metadata": {},
   "outputs": [],
   "source": []
  },
  {
   "cell_type": "code",
   "execution_count": 327,
   "metadata": {},
   "outputs": [
    {
     "data": {
      "text/plain": [
       "{\"('C:\\\\\\\\netBeansProjects\\\\\\\\fs-crawler', 1, 'file')\": ['bonjour',\n",
       "  'bonjour',\n",
       "  'bonjour'],\n",
       " \"('C:\\\\\\\\netBeansProjects', 2, 'dir')\": ['hello', 'hello']}"
      ]
     },
     "execution_count": 327,
     "metadata": {},
     "output_type": "execute_result"
    }
   ],
   "source": [
    "seria = {str((str(a), b, c)): v\n",
    "         for (k, v) in defdic.items()\n",
    "         for (a, b, c) in [k]}\n",
    "seria"
   ]
  },
  {
   "cell_type": "code",
   "execution_count": 316,
   "metadata": {},
   "outputs": [
    {
     "data": {
      "text/plain": [
       "{\"(WindowsPath('C:/netBeansProjects/fs-crawler'), 1, 'file')\": ['bonjour',\n",
       "  'bonjour',\n",
       "  'bonjour'],\n",
       " \"(WindowsPath('C:/netBeansProjects'), 2, 'dir')\": ['hello', 'hello']}"
      ]
     },
     "execution_count": 316,
     "metadata": {},
     "output_type": "execute_result"
    }
   ],
   "source": [
    "seria"
   ]
  },
  {
   "cell_type": "code",
   "execution_count": 245,
   "metadata": {},
   "outputs": [],
   "source": [
    "defdicjson = json.dumps(seria)"
   ]
  },
  {
   "cell_type": "code",
   "execution_count": 246,
   "metadata": {},
   "outputs": [
    {
     "data": {
      "text/plain": [
       "'{\"(\\'C:\\\\\\\\\\\\\\\\netBeansProjects\\\\\\\\\\\\\\\\fs-crawler\\', 1, \\'file\\')\": [\"bonjour\", \"bonjour\", \"bonjour\"], \"(\\'C:\\\\\\\\\\\\\\\\netBeansProjects\\', 2, \\'dir\\')\": [\"hello\", \"hello\"]}'"
      ]
     },
     "execution_count": 246,
     "metadata": {},
     "output_type": "execute_result"
    }
   ],
   "source": [
    "defdicjson"
   ]
  },
  {
   "cell_type": "code",
   "execution_count": 282,
   "metadata": {},
   "outputs": [],
   "source": [
    "desdic = json.loads(defdicjson)"
   ]
  },
  {
   "cell_type": "code",
   "execution_count": 283,
   "metadata": {},
   "outputs": [
    {
     "data": {
      "text/plain": [
       "{\"('C:\\\\\\\\netBeansProjects\\\\\\\\fs-crawler', 1, 'file')\": ['bonjour',\n",
       "  'bonjour',\n",
       "  'bonjour'],\n",
       " \"('C:\\\\\\\\netBeansProjects', 2, 'dir')\": ['hello', 'hello']}"
      ]
     },
     "execution_count": 283,
     "metadata": {},
     "output_type": "execute_result"
    }
   ],
   "source": [
    "desdic"
   ]
  },
  {
   "cell_type": "code",
   "execution_count": 307,
   "metadata": {},
   "outputs": [
    {
     "data": {
      "text/plain": [
       "defaultdict(list,\n",
       "            {(WindowsPath('C:/netBeansProjects/fs-crawler'),\n",
       "              1,\n",
       "              'file'): ['bonjour', 'bonjour', 'bonjour'],\n",
       "             (WindowsPath('C:/netBeansProjects'), 2, 'dir'): ['hello',\n",
       "              'hello']})"
      ]
     },
     "execution_count": 307,
     "metadata": {},
     "output_type": "execute_result"
    }
   ],
   "source": [
    "wouf = collections.defaultdict(list, {(pathlib.Path(a), b, c): v\n",
    "                                      for (k, v) in desdic.items()\n",
    "                                      for (a, b, c) in [ast.literal_eval(k)]})\n",
    "wouf"
   ]
  },
  {
   "cell_type": "code",
   "execution_count": 308,
   "metadata": {},
   "outputs": [
    {
     "data": {
      "text/plain": [
       "defaultdict(list,\n",
       "            {('C:\\\\netBeansProjects\\\\fs-crawler', 1, 'file'): ['bonjour',\n",
       "              'bonjour',\n",
       "              'bonjour'],\n",
       "             ('C:\\\\netBeansProjects', 2, 'dir'): ['hello', 'hello']})"
      ]
     },
     "execution_count": 308,
     "metadata": {},
     "output_type": "execute_result"
    }
   ],
   "source": [
    "plouf = collections.defaultdict(list, {ast.literal_eval(k): v for k, v in desdic.items()})\n",
    "plouf"
   ]
  },
  {
   "cell_type": "code",
   "execution_count": 309,
   "metadata": {},
   "outputs": [
    {
     "data": {
      "text/plain": [
       "False"
      ]
     },
     "execution_count": 309,
     "metadata": {},
     "output_type": "execute_result"
    }
   ],
   "source": [
    "wouf == plouf"
   ]
  },
  {
   "cell_type": "code",
   "execution_count": 312,
   "metadata": {},
   "outputs": [
    {
     "data": {
      "text/plain": [
       "True"
      ]
     },
     "execution_count": 312,
     "metadata": {},
     "output_type": "execute_result"
    }
   ],
   "source": [
    "wouf == defdic"
   ]
  },
  {
   "cell_type": "code",
   "execution_count": 311,
   "metadata": {},
   "outputs": [
    {
     "data": {
      "text/plain": [
       "defaultdict(list,\n",
       "            {(WindowsPath('C:/netBeansProjects/fs-crawler'),\n",
       "              1,\n",
       "              'file'): ['bonjour', 'bonjour', 'bonjour'],\n",
       "             (WindowsPath('C:/netBeansProjects'), 2, 'dir'): ['hello',\n",
       "              'hello']})"
      ]
     },
     "execution_count": 311,
     "metadata": {},
     "output_type": "execute_result"
    }
   ],
   "source": [
    "defdic"
   ]
  },
  {
   "cell_type": "code",
   "execution_count": null,
   "metadata": {},
   "outputs": [],
   "source": []
  },
  {
   "cell_type": "code",
   "execution_count": null,
   "metadata": {},
   "outputs": [],
   "source": []
  },
  {
   "cell_type": "code",
   "execution_count": null,
   "metadata": {},
   "outputs": [],
   "source": []
  },
  {
   "cell_type": "code",
   "execution_count": null,
   "metadata": {},
   "outputs": [],
   "source": []
  },
  {
   "cell_type": "code",
   "execution_count": 180,
   "metadata": {},
   "outputs": [],
   "source": [
    "titidef = collections.defaultdict(list, {int(k): v for k, v in defdef.items()})"
   ]
  },
  {
   "cell_type": "code",
   "execution_count": 181,
   "metadata": {},
   "outputs": [
    {
     "data": {
      "text/plain": [
       "defaultdict(list,\n",
       "            {1: ['bonjour', 'bonjour', 'bonjour'], 2: ['hello', 'hello']})"
      ]
     },
     "execution_count": 181,
     "metadata": {},
     "output_type": "execute_result"
    }
   ],
   "source": [
    "titidef"
   ]
  },
  {
   "cell_type": "code",
   "execution_count": 182,
   "metadata": {},
   "outputs": [
    {
     "data": {
      "text/plain": [
       "True"
      ]
     },
     "execution_count": 182,
     "metadata": {},
     "output_type": "execute_result"
    }
   ],
   "source": [
    "titidef == defdic"
   ]
  },
  {
   "cell_type": "code",
   "execution_count": null,
   "metadata": {},
   "outputs": [],
   "source": []
  },
  {
   "cell_type": "code",
   "execution_count": null,
   "metadata": {},
   "outputs": [],
   "source": []
  },
  {
   "cell_type": "code",
   "execution_count": null,
   "metadata": {},
   "outputs": [],
   "source": []
  },
  {
   "cell_type": "code",
   "execution_count": null,
   "metadata": {},
   "outputs": [],
   "source": []
  },
  {
   "cell_type": "code",
   "execution_count": null,
   "metadata": {},
   "outputs": [],
   "source": [
    "import fs_crawler"
   ]
  },
  {
   "cell_type": "code",
   "execution_count": 1,
   "metadata": {},
   "outputs": [],
   "source": [
    "import fs_crawler.crawl as fsc"
   ]
  },
  {
   "cell_type": "code",
   "execution_count": 3,
   "metadata": {},
   "outputs": [],
   "source": [
    "import pathlib"
   ]
  },
  {
   "cell_type": "code",
   "execution_count": 5,
   "metadata": {},
   "outputs": [
    {
     "data": {
      "text/plain": [
       "WindowsPath('C:/netBeansProjects/fs-crawler')"
      ]
     },
     "execution_count": 5,
     "metadata": {},
     "output_type": "execute_result"
    }
   ],
   "source": [
    "datapath = pathlib.Path()"
   ]
  },
  {
   "cell_type": "code",
   "execution_count": 126,
   "metadata": {},
   "outputs": [
    {
     "name": "stdout",
     "output_type": "stream",
     "text": [
      "bonjour tout le monde\n"
     ]
    }
   ],
   "source": [
    "fsc.new_func()"
   ]
  },
  {
   "cell_type": "code",
   "execution_count": null,
   "metadata": {},
   "outputs": [],
   "source": [
    "!conda list"
   ]
  }
 ],
 "metadata": {
  "kernelspec": {
   "display_name": "alpha",
   "language": "python",
   "name": "alpha"
  },
  "language_info": {
   "codemirror_mode": {
    "name": "ipython",
    "version": 3
   },
   "file_extension": ".py",
   "mimetype": "text/x-python",
   "name": "python",
   "nbconvert_exporter": "python",
   "pygments_lexer": "ipython3",
   "version": "3.7.4"
  }
 },
 "nbformat": 4,
 "nbformat_minor": 2
}
